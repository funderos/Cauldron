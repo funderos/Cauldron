{
 "metadata": {
  "language_info": {
   "codemirror_mode": {
    "name": "ipython",
    "version": 3
   },
   "file_extension": ".py",
   "mimetype": "text/x-python",
   "name": "python",
   "nbconvert_exporter": "python",
   "pygments_lexer": "ipython3",
   "version": "3.9.1"
  },
  "orig_nbformat": 2,
  "kernelspec": {
   "name": "python391jvsc74a57bd059807b9fbddb1d482b3aefa1419585fd0d723d3f3f15f9701e9b33b6839623f0",
   "display_name": "Python 3.9.1 64-bit"
  },
  "metadata": {
   "interpreter": {
    "hash": "59807b9fbddb1d482b3aefa1419585fd0d723d3f3f15f9701e9b33b6839623f0"
   }
  }
 },
 "nbformat": 4,
 "nbformat_minor": 2,
 "cells": [
  {
   "source": [
    "# Networks\n",
    "\n",
    "Clustering and visualization of player data is not only based on their numerical features but also on structural (network) features that must be created an prepared beforehand.\n",
    "\n",
    "__SUBJECT TO CHANGE - CHECK VALUES w/ SUPERVISOR BEFORE FULL DUMP__"
   ],
   "cell_type": "markdown",
   "metadata": {}
  },
  {
   "source": [
    "## Imports"
   ],
   "cell_type": "markdown",
   "metadata": {}
  },
  {
   "cell_type": "code",
   "execution_count": null,
   "metadata": {},
   "outputs": [],
   "source": [
    "\n",
    "import os\n",
    "import configparser\n",
    "import json\n",
    "import itertools\n",
    "import pickle\n",
    "from pandas import DataFrame\n",
    "from sklearn.cluster import KMeans\n",
    "from sklearn.preprocessing import MinMaxScaler, StandardScaler\n",
    "from matplotlib import pyplot as plt\n",
    "import numpy as np\n",
    "%matplotlib inline\n",
    "\n",
    "from multiprocessing import Process\n",
    "\n",
    "config = configparser.ConfigParser()\n",
    "config.read('task_config.ini')\n",
    "\n",
    "ROOT_DIRPATH = config['GENERAL']['ROOT']\n",
    "TARGET_DIRPATH = config['GENERAL']['TARGET']\n",
    "EGO_DIRPATH = ROOT_DIRPATH + config['API']['EGOS']\n",
    "DICT_FILEPATH = ROOT_DIRPATH + config['API']['DICT']\n",
    "SURVEY_FILEPATH = ROOT_DIRPATH + config['SURVEY']['COMBINED']\n",
    "RESULT_FILEPATH = TARGET_DIRPATH + config['RESULT']['PLAYERS']\n",
    "RESULT_FILE = TARGET_DIRPATH + config['RESULT']['OVERALL']"
   ]
  },
  {
   "source": [
    "### Load ID Dictionary\n",
    "\n",
    "The ID Dictionary maps Summoner IDs to their filepath in the API Data"
   ],
   "cell_type": "markdown",
   "metadata": {}
  },
  {
   "cell_type": "code",
   "execution_count": null,
   "metadata": {},
   "outputs": [],
   "source": [
    "with open(DICT_FILEPATH, 'rb') as iddict:\n",
    "    ids = pickle.load(iddict)\n",
    "with open(SURVEY_FILEPATH, 'rb') as surveyData:\n",
    "    survey = pickle.load(surveyData)"
   ]
  },
  {
   "source": [
    "### Save processed player data\n",
    "\n",
    "A method for storing processed player data in the specified filepath as well as a method for retrieving the right filepath having a summoner id."
   ],
   "cell_type": "markdown",
   "metadata": {}
  },
  {
   "cell_type": "code",
   "execution_count": null,
   "metadata": {},
   "outputs": [],
   "source": [
    "def saveResult(filepath, result):\n",
    "    if not os.path.exists(os.path.dirname(filepath)):\n",
    "        try:\n",
    "            os.makedirs(os.path.dirname(filepath))\n",
    "        except OSError as exc: # Guard against race condition\n",
    "            if exc.errno != errno.EEXIST:\n",
    "                raise\n",
    "    with open(filepath, 'wb') as f:\n",
    "        pickle.dump(result, f, pickle.HIGHEST_PROTOCOL)\n",
    "\n",
    "def getResultFilepath(summonerId):\n",
    "    puuid = ids[summonerId].split('/')[1]\n",
    "    return RESULT_FILEPATH + puuid[0] + '/' + puuid + '.pickle'"
   ]
  },
  {
   "source": [
    "### Method: Create Player\n",
    "\n",
    "This method creates Python dictionaries containing details of a specific player and it's connections to other players."
   ],
   "cell_type": "markdown",
   "metadata": {}
  },
  {
   "cell_type": "code",
   "execution_count": null,
   "metadata": {},
   "outputs": [],
   "source": [
    "def create_player(summonerId):\n",
    "    playerPath = ROOT_DIRPATH + '/' + ids[summonerId] + '/'\n",
    "    result = {'id': summonerId, 'puuid': playerPath.split(\"/\")[-2], 'alters': dict(), 'stats': dict()}\n",
    "\n",
    "    with open (playerPath + 'summoner.json', 'r') as summonerinput:\n",
    "        ego = json.load(summonerinput)\n",
    "        result['name'] = ego['name']\n",
    "        result['platform'] = ego['platformId']\n",
    "        result['level'] = ego['summonerLevel']\n",
    "        if 'linkId' in ego and int(ego['linkId']) in survey:\n",
    "            result['surveyData'] = survey[int(ego['linkId'])]\n",
    "\n",
    "    kda = []\n",
    "    kp = []\n",
    "    teamGold = []\n",
    "    teamDamage = []\n",
    "    ckpm = []\n",
    "    won = 0\n",
    "    killsWon = 0\n",
    "    lost = 0\n",
    "    deathsLost = 0\n",
    "\n",
    "    for matchfile in os.listdir(playerPath):\n",
    "        if matchfile in ['summoner.json', 'rankedstats.json', 'matchhistory.json']:\n",
    "            continue\n",
    "        with open(playerPath + matchfile, 'r') as matchinput:\n",
    "            match = json.load(matchinput)\n",
    "            teams = {str(100): dict(), str(200): dict()}\n",
    "            teamIds = {str(100): [], str(200): []}\n",
    "            playerTeam = -1\n",
    "            totalDamage = 0\n",
    "            totalGold = 0\n",
    "            totalKills = 0\n",
    "            for participant in match['participants']:\n",
    "                teams[str(participant['teamId'])][participant['participantId']] = participant['stats']\n",
    "            for partIdendity in match['participantIdentities']:\n",
    "                if 'player' in partIdendity and 'summonerId' in partIdendity['player']:\n",
    "                    for key, values in teams.items():\n",
    "                        if partIdendity['participantId'] in values:\n",
    "                            if partIdendity['player']['summonerId'] == ego['id']:\n",
    "                                playerTeam = key\n",
    "                                egoKills = values[partIdendity['participantId']]['kills']\n",
    "                                egoAssists = values[partIdendity['participantId']]['assists']\n",
    "                                egoDeaths = values[partIdendity['participantId']]['deaths']\n",
    "                                egoDamage = values[partIdendity['participantId']]['totalDamageDealt']\n",
    "                                egoGold = values[partIdendity['participantId']]['goldEarned']\n",
    "                                totalKills = totalKills + egoKills\n",
    "                                totalDamage = totalDamage + egoDamage\n",
    "                                totalGold = totalGold + egoGold\n",
    "                                if values[partIdendity['participantId']]['win']:\n",
    "                                    won = won + 1\n",
    "                                    killsWon = killsWon + egoKills\n",
    "                                else:\n",
    "                                    lost = lost + 1\n",
    "                                    deathsLost = deathsLost + egoDeaths\n",
    "                            else:\n",
    "                                teamIds[key].append((partIdendity['player']['summonerId'], partIdendity['player']['currentPlatformId'], partIdendity['player']['summonerName'], values[partIdendity['participantId']]['kills'], values[partIdendity['participantId']]['totalDamageDealt'], values[partIdendity['participantId']]['goldEarned']))\n",
    "            if int(playerTeam) > 0:\n",
    "                for key, values in teamIds.items():\n",
    "                    for participantTuple in values:\n",
    "                        result['alters'].setdefault(participantTuple[0], {'platform': participantTuple[1], 'name': participantTuple[2], 'team': [], 'vs': []})['vs' if key != playerTeam else 'team'].append(match['gameId'])\n",
    "                        if key == playerTeam:\n",
    "                            totalKills = totalKills + participantTuple[3]\n",
    "                            totalDamage = totalDamage + participantTuple[4]\n",
    "                            totalGold = totalGold + participantTuple[5]\n",
    "                kda.append(((egoKills + egoAssists) / egoDeaths) if egoDeaths else 1)\n",
    "                if totalKills > 0:\n",
    "                    kp.append((egoKills + egoAssists) / totalKills)\n",
    "                if totalGold > 0:\n",
    "                    teamGold.append(egoGold / totalGold)\n",
    "                if totalDamage > 0:\n",
    "                    teamDamage.append(egoDamage / totalDamage)\n",
    "                if match['gameDuration']:\n",
    "                    ckpm.append((egoKills + egoDeaths) * 60 / match['gameDuration'])\n",
    "\n",
    "    if (len(kda)):\n",
    "        result['stats']['kda'] = sum(kda) / len(kda)\n",
    "    if (len(kp)):\n",
    "        result['stats']['kp'] = sum(kp) / len(kp)\n",
    "    if (len(teamGold)):\n",
    "        result['stats']['teamGold'] = sum(teamGold) / len(teamGold)\n",
    "    if (len(teamDamage)):\n",
    "        result['stats']['teamDamage'] = sum(teamDamage) / len(teamDamage)\n",
    "    if (len(ckpm)):\n",
    "        result['stats']['ckpm'] = sum(ckpm) / len(ckpm)\n",
    "    if won + lost:\n",
    "        result['stats']['winrate'] = won / (won + lost)\n",
    "    if won:\n",
    "        result['stats']['kpw'] = killsWon / won\n",
    "    if lost:\n",
    "        result['stats']['dpl'] = deathsLost / lost\n",
    "\n",
    "    return result"
   ]
  },
  {
   "source": [
    "### Method: Get Alter\n",
    "\n",
    "A method for retrieving player details of an alter. It will check the existance of persisted data and return it, otherwise delegates to the create player method for creating and storing it."
   ],
   "cell_type": "markdown",
   "metadata": {}
  },
  {
   "cell_type": "code",
   "execution_count": null,
   "metadata": {},
   "outputs": [],
   "source": [
    "def get_alter(summonerId):\n",
    "    resultFile = getResultFilepath(summonerId)\n",
    "    if os.path.exists(resultFile):\n",
    "        with open(resultFile, 'rb') as f:\n",
    "            return pickle.load(f)\n",
    "    result = create_player(summonerId)\n",
    "    saveResult(resultFile, result)\n",
    "    return result"
   ]
  },
  {
   "source": [
    "### Get Ego by PUUID\n",
    "\n",
    "Similar to the Get Alter method, a stored copy of a processed object is queried before creating it. Player details of egos also contain all data relevant for 2-level ego networks and their features."
   ],
   "cell_type": "markdown",
   "metadata": {}
  },
  {
   "cell_type": "code",
   "execution_count": null,
   "metadata": {},
   "outputs": [],
   "source": [
    "def get_ego_by_puuid(puuid):\n",
    "    resultFile = RESULT_FILEPATH + puuid[0] + '/' + puuid + '.pickle'\n",
    "    if os.path.exists(resultFile):\n",
    "        with open(resultFile, 'rb') as f:\n",
    "            return pickle.load(f)\n",
    "    \n",
    "    with open (EGO_DIRPATH + puuid + '/' + 'summoner.json', 'r') as summonerinput:\n",
    "        ego = json.load(summonerinput)\n",
    "        summonerId = ego['id']\n",
    "\n",
    "    result = create_player(summonerId)\n",
    "\n",
    "    result['edgesEgo'] = []\n",
    "    result['nodesAlters'] = []\n",
    "    result['edgesAlters'] = []\n",
    "    result['nodes2nd'] = []\n",
    "    result['edges2nd'] = []\n",
    "\n",
    "    result['nodesEgo'] = {\"id\": summonerId, \"value\": 30, \"label\": result['name']}\n",
    "    #result['alterTies'] = dict()\n",
    "\n",
    "    alters = set(result['alters'])\n",
    "    remainingAlters = alters.copy()\n",
    "    components = list([a] for a in alters)\n",
    "    stored2ndLevel = set()\n",
    "    missingAlters = dict()\n",
    "    \n",
    "\n",
    "    for alterId in alters:\n",
    "        alterInfo = result['alters'][alterId]\n",
    "        result['nodesAlters'].append({\"id\": alterId, \"value\": 10, \"label\": alterInfo['name'] if len(alterInfo['name']) < 9 else alterInfo['name'][:7] + '...'})\n",
    "\n",
    "        teamCount = len(alterInfo['team'])\n",
    "        vsCount = len(alterInfo['vs'])\n",
    "        if teamCount:\n",
    "            result['edgesEgo'].append({\"from\": summonerId, \"to\": alterId, \"value\": teamCount, \"title\": teamCount, \"color\": \"00FF00\"})\n",
    "        if vsCount:\n",
    "            result['edgesEgo'].append({\"from\": summonerId, \"to\": alterId, \"value\": vsCount, \"title\": vsCount, \"color\": \"FF0000\"})\n",
    "\n",
    "        if alterId not in ids:\n",
    "            for match in alterInfo['team']:\n",
    "                missingAlters.setdefault(match, {'team': [], 'vs': []})['team'].append(alterId)\n",
    "            for match in alterInfo['vs']:\n",
    "                missingAlters.setdefault(match, {'team': [], 'vs': []})['vs'].append(alterId)\n",
    "            continue\n",
    "        \n",
    "        remainingAlters.remove(alterId)\n",
    "        alter = get_alter(alterId)\n",
    "        \n",
    "        merged = [sublist for sublist in components for a in sublist if a in set(alter['alters'])]\n",
    "        excl = [sublist for sublist in components if sublist not in merged]\n",
    "        components = excl + [list(set(element for sublist in merged for element in sublist))]\n",
    "\n",
    "        commonAlterIds = set(alter['alters']) & remainingAlters\n",
    "\n",
    "        for alterAlterId in commonAlterIds:\n",
    "            matchInfo = alter['alters'][alterAlterId]\n",
    "            #result['alterTies'][str((alterId, alterAlterId))] = {key:matchInfo[key] for key in matchInfo if key == 'team' or key == 'vs'}\n",
    "            \n",
    "            teamCount = len(matchInfo['team'])\n",
    "            vsCount = len(matchInfo['vs'])\n",
    "            if teamCount:\n",
    "                result['edgesAlters'].append({\"from\": alterId, \"to\": alterAlterId, \"value\": teamCount, \"title\": teamCount, \"color\": \"00FF00\"})\n",
    "            if vsCount:\n",
    "                result['edgesAlters'].append({\"from\": alterId, \"to\": alterAlterId, \"value\": vsCount, \"title\": vsCount, \"color\": \"FF0000\"})\n",
    "\n",
    "        alters2ndLevel = set(alter['alters']) - alters\n",
    "        if summonerId in alters2ndLevel:\n",
    "            alters2ndLevel.remove(summonerId)\n",
    "\n",
    "        for alter2ndLevelId in alters2ndLevel:\n",
    "            matchInfo = alter['alters'][alter2ndLevelId]\n",
    "            if alter2ndLevelId not in stored2ndLevel:\n",
    "                result['nodes2nd'].append({\"id\": alter2ndLevelId, \"value\": 5, \"label\": matchInfo['name'] if len(alterInfo['name']) < 9 else alterInfo['name'][:7] + \"...\"})\n",
    "                stored2ndLevel.add(alter2ndLevelId)\n",
    "            \n",
    "            teamCount = len(matchInfo['team'])\n",
    "            vsCount = len(matchInfo['vs'])\n",
    "            if teamCount:\n",
    "                result['edges2nd'].append({\"from\": alterId, \"to\": alter2ndLevelId, \"value\": teamCount, \"title\": teamCount, \"color\": \"00FF00\"})\n",
    "            if vsCount:\n",
    "                result['edges2nd'].append({\"from\": alterId, \"to\": alter2ndLevelId, \"value\": vsCount, \"title\": vsCount, \"color\": \"FF0000\"})\n",
    "\n",
    "    coopMatches = []\n",
    "    vsMatches = []\n",
    "    for matchId, match in missingAlters.items():\n",
    "        match['team'].sort()\n",
    "        match['vs'].sort()\n",
    "        for pair in itertools.combinations(match['team'], 2):\n",
    "            coopMatches.append(pair)\n",
    "        for pair in itertools.combinations(match['vs'], 2):\n",
    "            coopMatches.append(pair)\n",
    "        for id1 in match['team']:\n",
    "            for id2 in match['vs']:\n",
    "                vsPlayers = [id1, id2]\n",
    "                vsPlayers.sort()\n",
    "                vsMatches.append(tuple(vsPlayers))\n",
    "        merged = [sublist for sublist in components for a in sublist if a in set(match['team'] + match['vs'])]\n",
    "        excl = [sublist for sublist in components if sublist not in merged]\n",
    "        components = excl + [list(set(element for sublist in merged for element in sublist))]\n",
    "    \n",
    "    for playerTuple in set(coopMatches):\n",
    "        result['edgesAlters'].append({\"from\": playerTuple[0], \"to\": playerTuple[1], \"value\": coopMatches.count(playerTuple), \"title\": coopMatches.count(playerTuple), \"color\": \"00FF00\"})\n",
    "    for playerTuple in set(vsMatches):\n",
    "        result['edgesAlters'].append({\"from\": playerTuple[0], \"to\": playerTuple[1], \"value\": vsMatches.count(playerTuple), \"title\": vsMatches.count(playerTuple), \"color\": \"FF0000\"})\n",
    "\n",
    "    numberOfAlters = len(alters) # = Degree\n",
    "    numberOfTies = len(result['edgesAlters'])\n",
    "    meanTieStrength = sum(edge['value'] for edge in result['edgesEgo']) / len(result['edgesEgo'])\n",
    "    density = numberOfTies / (numberOfAlters * (numberOfAlters - 1))\n",
    "    componentRatio = (len(components) - 1) / (numberOfAlters - 1)\n",
    "    fragmentationIndex = 1 - sum(len(component) * (len(component) - 1) for component in components) / (numberOfAlters * (numberOfAlters - 1))\n",
    "\n",
    "    result[\"network\"] = {\"Degree\": numberOfAlters, \"Mean Tie Strength\": meanTieStrength, \"Density\": density, \"Components\": len(components), \"Component Ratio\": componentRatio, \"Fragmentation Index\": fragmentationIndex}\n",
    "\n",
    "    saveResult(resultFile, result)\n",
    "    return result"
   ]
  },
  {
   "source": [
    "### Get Ego by Summoner ID\n",
    "\n",
    "Processes the summoner ID and delegates to the _Get Ego by PUUID_ method."
   ],
   "cell_type": "markdown",
   "metadata": {}
  },
  {
   "cell_type": "code",
   "execution_count": null,
   "metadata": {},
   "outputs": [],
   "source": [
    "def get_ego_by_summonerId(summonerId):\n",
    "    return get_ego_by_puuid(ids[summonerId].split(\"/\")[1])    "
   ]
  },
  {
   "cell_type": "code",
   "execution_count": null,
   "metadata": {
    "tags": []
   },
   "outputs": [],
   "source": [
    "with open(ROOT_DIRPATH + \"egomatchnumbers.pickle\", 'rb') as f:\n",
    "    for puuid, alterNumber in pickle.load(f):\n",
    "        if alterNumber < 30 and alterNumber > 0:\n",
    "            print(alterNumber)\n",
    "            print(get_ego_by_puuid(puuid)['puuid'])\n",
    "            print(get_ego_by_puuid(puuid)['name'])\n",
    "            print(get_ego_by_puuid(puuid)['stats'])\n",
    "            print(get_ego_by_puuid(puuid)['network'])"
   ]
  },
  {
   "cell_type": "code",
   "execution_count": null,
   "metadata": {
    "tags": []
   },
   "outputs": [],
   "source": [
    "results = []\n",
    "with open(ROOT_DIRPATH + \"egomatchnumbers.pickle\", 'rb') as f:\n",
    "    for puuid, alterNumber in pickle.load(f):\n",
    "        if alterNumber < 30 and alterNumber > 0:\n",
    "            ego = get_ego_by_puuid(puuid)\n",
    "            if 'surveyData' in ego:\n",
    "                print(puuid)\n",
    "                result = {'level': ego['level']}\n",
    "                for key, value in ego['stats'].items():\n",
    "                    result[key] = value\n",
    "                for key, value in ego['surveyData'].items():\n",
    "                    result[key] = value\n",
    "                for key, value in ego['network'].items():\n",
    "                    result[key] = value\n",
    "                results.append(result)"
   ]
  },
  {
   "cell_type": "code",
   "execution_count": null,
   "metadata": {},
   "outputs": [],
   "source": [
    "df = DataFrame(results)\n",
    "df.head()"
   ]
  },
  {
   "cell_type": "code",
   "execution_count": null,
   "metadata": {},
   "outputs": [],
   "source": [
    "len(df.index)"
   ]
  },
  {
   "cell_type": "code",
   "execution_count": null,
   "metadata": {},
   "outputs": [],
   "source": [
    "with open(RESULT_FILE, 'wb') as f:\n",
    "    pickle.dump(results, f, pickle.HIGHEST_PROTOCOL)"
   ]
  },
  {
   "cell_type": "code",
   "execution_count": null,
   "metadata": {},
   "outputs": [],
   "source": [
    "df = df.drop(['Gender'], axis=1)"
   ]
  },
  {
   "cell_type": "code",
   "execution_count": null,
   "metadata": {},
   "outputs": [],
   "source": [
    "sse = []\n",
    "k_rng = range(1,10)\n",
    "for k in k_rng:\n",
    "    km = KMeans(n_clusters=k)\n",
    "    km.fit(df)\n",
    "    sse.append(km.inertia_)\n",
    "plt.xlabel('K')\n",
    "plt.ylabel('Sum of squared error')\n",
    "plt.plot(k_rng,sse)"
   ]
  },
  {
   "cell_type": "code",
   "execution_count": null,
   "metadata": {},
   "outputs": [],
   "source": [
    "km = KMeans(n_clusters=3)\n",
    "y_predicted = km.fit_predict(df)\n",
    "y_predicted"
   ]
  },
  {
   "cell_type": "code",
   "execution_count": null,
   "metadata": {},
   "outputs": [],
   "source": [
    "df[['level','Degree']].head()\n"
   ]
  },
  {
   "cell_type": "code",
   "execution_count": null,
   "metadata": {},
   "outputs": [],
   "source": [
    "for re in results:\n",
    "    print(re)"
   ]
  },
  {
   "cell_type": "code",
   "execution_count": null,
   "metadata": {},
   "outputs": [],
   "source": [
    "results = []\n",
    "with open(ROOT_DIRPATH + \"egomatchnumbers.pickle\", 'rb') as f:\n",
    "    for puuid, alterNumber in pickle.load(f):\n",
    "        if alterNumber < 10 and alterNumber > 0:\n",
    "            ego = get_ego_by_puuid(puuid)\n",
    "            if 'surveyData' in ego:\n",
    "                results.append('level')\n",
    "                for key, value in ego['stats'].items():\n",
    "                    results.append(key)\n",
    "                for key, value in ego['surveyData'].items():\n",
    "                    results.append(key)\n",
    "                for key, value in ego['network'].items():\n",
    "                    results.append(key)\n",
    "print(set(results))\n",
    "                "
   ]
  },
  {
   "cell_type": "code",
   "execution_count": null,
   "metadata": {},
   "outputs": [],
   "source": [
    "set(key for item in results for key in item)"
   ]
  },
  {
   "cell_type": "code",
   "execution_count": null,
   "metadata": {},
   "outputs": [],
   "source": [
    "results[0]"
   ]
  },
  {
   "cell_type": "code",
   "execution_count": null,
   "metadata": {},
   "outputs": [],
   "source": [
    "kakastring = 'Fragmentation Index'\n",
    "'stat' + kakastring.replace(\" \", \"\")"
   ]
  },
  {
   "cell_type": "code",
   "execution_count": null,
   "metadata": {},
   "outputs": [],
   "source": []
  }
 ]
}