{
 "metadata": {
  "language_info": {
   "codemirror_mode": {
    "name": "ipython",
    "version": 3
   },
   "file_extension": ".py",
   "mimetype": "text/x-python",
   "name": "python",
   "nbconvert_exporter": "python",
   "pygments_lexer": "ipython3",
   "version": "3.9.1"
  },
  "orig_nbformat": 2,
  "kernelspec": {
   "name": "python391jvsc74a57bd059807b9fbddb1d482b3aefa1419585fd0d723d3f3f15f9701e9b33b6839623f0",
   "display_name": "Python 3.9.1 64-bit"
  },
  "metadata": {
   "interpreter": {
    "hash": "59807b9fbddb1d482b3aefa1419585fd0d723d3f3f15f9701e9b33b6839623f0"
   }
  }
 },
 "nbformat": 4,
 "nbformat_minor": 2,
 "cells": [
  {
   "source": [
    "# Psychological Data (Survey)\n",
    "\n",
    "A range of psychological data from players that act as egos in this project has been evaluated in the summer of 2018 is available in CSV format.\n",
    "\n",
    "\n",
    "\n",
    "Psychological data is stored in CSV format"
   ],
   "cell_type": "markdown",
   "metadata": {}
  },
  {
   "source": [
    "## Additional Information\n",
    "The paper _Motivational Profiling of League of Legends Players_ and information about data can be found at: https://osf.io/ue82s/\n",
    "The CSV file available for download does only contain ananonymized subset of the original collected data. A full data CSV file as well as the final motivational profiles in a separate CSV file have been provided for this project."
   ],
   "cell_type": "markdown",
   "metadata": {}
  },
  {
   "source": [
    "## Imports\n",
    "\n",
    "The CSV files will be imported in Python using _pandas_, converted to a Python dictionary and dumped in a _Pickle_ file. Therefore, the corresponding Python imports as well as the import and export filepaths get specified first:"
   ],
   "cell_type": "markdown",
   "metadata": {}
  },
  {
   "cell_type": "code",
   "execution_count": 38,
   "metadata": {},
   "outputs": [],
   "source": [
    "import configparser\n",
    "import pandas\n",
    "import pickle\n",
    "\n",
    "config = configparser.ConfigParser()\n",
    "config.read('task_config.ini')\n",
    "\n",
    "rootDir = config['GENERAL']['ROOT']\n",
    "importFileFull = rootDir + config['SURVEY']['FULL_CSV']\n",
    "importFileProfiles = rootDir + config['SURVEY']['PROFILE_CSV']\n",
    "exportFile = rootDir + config['SURVEY']['COMBINED']"
   ]
  },
  {
   "source": [
    "## Importing the CSV files with the Pandas Library\n",
    "### Read full data CSV in correct format, omit irrelevant columns\n",
    "\n",
    "For reading in the full data CSV, the column and decimal delimiters have to be specified as the CSV follows German formatting. The internal ID will be specified as index for linking the motivational profile data in the next step.\n",
    "\n",
    "Also, most attributes (columns) will be omitted as we are are only interested in mean values besides age, gender and the unencrypted summoner ID retrieved from the API which will be used as key for linking the data with the new data retrieved in 2019 and 2020.\n"
   ],
   "cell_type": "markdown",
   "metadata": {}
  },
  {
   "cell_type": "code",
   "execution_count": 34,
   "metadata": {},
   "outputs": [],
   "source": [
    "full_df = pandas.read_csv(filepath_or_buffer=importFileFull, delimiter=';', decimal=',', index_col='id', usecols=['id','Age','Gender','mean_AMO','mean_EXT','mean_INJ','mean_IDE','mean_INT','mean_IMO','api_summonerID_unranked','mean_IMI_enj','mean_IMI_tens','PANAS_score_PA','PANAS_score_NA','mean_PENS_rel','mean_PENS_com','mean_PENS_aut','mean_ACH_GOAL_perf_ap','mean_ACH_GOAL_perf_av','mean_ACH_GOAL_mast_ap','mean_ACH_GOAL_mast_av','mean_Vitality','mean_PASSION_hp','mean_PASSION_op'])"
   ]
  },
  {
   "source": [
    "### Read motivational profile CSV\n",
    "\n",
    "For this CSV, we only specify the id as index for joining the resulting dataframe with the full data object we created beforehand. No additional arguments are required as the CSV is already correctly formatted."
   ],
   "cell_type": "markdown",
   "metadata": {}
  },
  {
   "cell_type": "code",
   "execution_count": 35,
   "metadata": {},
   "outputs": [],
   "source": [
    "profile_df = pandas.read_csv(filepath_or_buffer=importFileProfiles, index_col='id')"
   ]
  },
  {
   "source": [
    "## Storing the results\n",
    "\n",
    "At last, the dataframes are joined, the summoner Id is set as the new index (omitting the old `id` column as we do not need it anymore) and the resulting _Pandas_ dataframe object will be converted to a Python dictionary which gets dumped to the export filepath via _Pickle_."
   ],
   "cell_type": "code",
   "metadata": {},
   "execution_count": null,
   "outputs": []
  },
  {
   "cell_type": "code",
   "execution_count": 39,
   "metadata": {},
   "outputs": [],
   "source": [
    "result_df = pandas.concat([full_df, profile_df], axis=1)\n",
    "result_df.set_index('api_summonerID_unranked', inplace=True)\n",
    "\n",
    "playerEntries = result_df.to_dict('index')\n",
    "\n",
    "with open(exportFile, 'wb') as f:\n",
    "    pickle.dump(playerEntries, f, pickle.HIGHEST_PROTOCOL)"
   ]
  }
 ]
}